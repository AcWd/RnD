{
 "cells": [
  {
   "cell_type": "code",
   "execution_count": 2,
   "metadata": {
    "ExecuteTime": {
     "end_time": "2019-04-06T22:04:53.722043Z",
     "start_time": "2019-04-06T22:04:48.249946Z"
    }
   },
   "outputs": [
    {
     "name": "stderr",
     "output_type": "stream",
     "text": [
      "Process STDOUT and STDERR is being redirected to /tmp/ray/session_2019-04-06_23-04-52_2160/logs.\n",
      "Waiting for redis server at 127.0.0.1:19182 to respond...\n",
      "Waiting for redis server at 127.0.0.1:52921 to respond...\n",
      "Starting Redis shard with 10.0 GB max memory.\n",
      "WARNING: The object store is using /tmp instead of /dev/shm because /dev/shm has only 8314028032 bytes available. This may slow down performance! You may be able to free up space by deleting files in /dev/shm or terminating any running plasma_store_server processes. If you are inside a Docker container, you may need to pass an argument with the flag '--shm-size' to 'docker run'.\n",
      "Starting the Plasma object store with 10.0 GB memory using /tmp.\n"
     ]
    },
    {
     "data": {
      "text/html": [
       "<style>.container { width:98% !important; }</style>"
      ],
      "text/plain": [
       "<IPython.core.display.HTML object>"
      ]
     },
     "metadata": {},
     "output_type": "display_data"
    }
   ],
   "source": [
    "import modin.pandas as pd\n",
    "import numpy as np\n",
    "import random \n",
    "\n",
    "#import pandas as pd\n",
    "\n",
    "from datetime import date\n",
    "from datetime import timedelta  \n",
    "import datetime\n",
    "\n",
    "from IPython.core.display import display, HTML\n",
    "display(HTML(\"<style>.container { width:98% !important; }</style>\"))\n",
    "\n"
   ]
  },
  {
   "cell_type": "code",
   "execution_count": 3,
   "metadata": {
    "ExecuteTime": {
     "end_time": "2019-04-06T22:04:53.750966Z",
     "start_time": "2019-04-06T22:04:53.734565Z"
    }
   },
   "outputs": [],
   "source": [
    "def get_epochtime_ms():\n",
    "    return datetime.datetime.now() + timedelta(days=random.randint(0, 100),hours=random.randint(1, 12), minutes=random.randint(0, 58))  "
   ]
  },
  {
   "cell_type": "code",
   "execution_count": 4,
   "metadata": {
    "ExecuteTime": {
     "end_time": "2019-04-06T22:04:53.919061Z",
     "start_time": "2019-04-06T22:04:53.767674Z"
    }
   },
   "outputs": [],
   "source": [
    "import random, string\n",
    "\n",
    "def get_randomString():\n",
    "    return ''.join(random.choices(string.ascii_letters + string.digits + string.hexdigits, k=25))\n"
   ]
  },
  {
   "cell_type": "code",
   "execution_count": null,
   "metadata": {
    "ExecuteTime": {
     "start_time": "2019-04-06T22:04:48.265Z"
    }
   },
   "outputs": [],
   "source": [
    "%%time\n",
    "n_rows=2**30\n",
    "pd.DataFrame({ 'intCol'   : [random.randrange(101, 999, 2) for _ in range(n_rows)],\n",
    "                'folatCol':  [random.uniform(1,4) for _ in range(n_rows)],\n",
    "                'strCol' :   [get_randomString()  for _ in range(n_rows)] ,\n",
    "                'dateCol' :  [get_epochtime_ms() for _ in range(n_rows)]\n",
    "             }).to_csv('randdataSet7.csv',sep='\\t')"
   ]
  },
  {
   "cell_type": "code",
   "execution_count": 1,
   "metadata": {
    "ExecuteTime": {
     "end_time": "2019-04-07T12:14:04.128593Z",
     "start_time": "2019-04-07T12:14:03.645910Z"
    }
   },
   "outputs": [
    {
     "name": "stdout",
     "output_type": "stream",
     "text": [
      "-rw-rw-r-- 1 napster napster 2.0G Apr  6 22:17 randdataSet4.csv\r\n"
     ]
    }
   ],
   "source": [
    "! ls -lh randdataSet4.csv"
   ]
  },
  {
   "cell_type": "code",
   "execution_count": null,
   "metadata": {
    "ExecuteTime": {
     "start_time": "2019-04-06T22:04:48.273Z"
    }
   },
   "outputs": [],
   "source": [
    "2**30"
   ]
  }
 ],
 "metadata": {
  "kernelspec": {
   "display_name": "Python 3",
   "language": "python",
   "name": "python3"
  },
  "language_info": {
   "codemirror_mode": {
    "name": "ipython",
    "version": 3
   },
   "file_extension": ".py",
   "mimetype": "text/x-python",
   "name": "python",
   "nbconvert_exporter": "python",
   "pygments_lexer": "ipython3",
   "version": "3.7.1"
  },
  "toc": {
   "base_numbering": 1,
   "nav_menu": {},
   "number_sections": true,
   "sideBar": true,
   "skip_h1_title": false,
   "title_cell": "Table of Contents",
   "title_sidebar": "Contents",
   "toc_cell": false,
   "toc_position": {},
   "toc_section_display": true,
   "toc_window_display": false
  }
 },
 "nbformat": 4,
 "nbformat_minor": 2
}
